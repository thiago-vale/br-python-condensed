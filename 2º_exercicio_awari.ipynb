{
  "nbformat": 4,
  "nbformat_minor": 0,
  "metadata": {
    "colab": {
      "name": "2º exercicio awari.ipynb",
      "provenance": [],
      "authorship_tag": "ABX9TyPzUyuUKD/cjRWsoKlqsGWQ",
      "include_colab_link": true
    },
    "kernelspec": {
      "name": "python3",
      "display_name": "Python 3"
    }
  },
  "cells": [
    {
      "cell_type": "markdown",
      "metadata": {
        "id": "view-in-github",
        "colab_type": "text"
      },
      "source": [
        "<a href=\"https://colab.research.google.com/github/thiago-vale/br-python-condensed/blob/main/2%C2%BA_exercicio_awari.ipynb\" target=\"_parent\"><img src=\"https://colab.research.google.com/assets/colab-badge.svg\" alt=\"Open In Colab\"/></a>"
      ]
    },
    {
      "cell_type": "markdown",
      "metadata": {
        "id": "JGTcvjhpvLYO"
      },
      "source": [
        "Printar Olá Mundo!"
      ]
    },
    {
      "cell_type": "code",
      "metadata": {
        "colab": {
          "base_uri": "https://localhost:8080/"
        },
        "id": "OnaO0ww4ulVQ",
        "outputId": "c519ba60-62a9-4585-ca31-c776beae3ff2"
      },
      "source": [
        "print('Olá Mundo!')"
      ],
      "execution_count": null,
      "outputs": [
        {
          "output_type": "stream",
          "text": [
            "Olá Mundo!\n"
          ],
          "name": "stdout"
        }
      ]
    },
    {
      "cell_type": "markdown",
      "metadata": {
        "id": "0toDMhz4xO1h"
      },
      "source": [
        "Fórmula \\\r\n",
        "${IMC}=\\frac{Peso(kg)}{Altura(m)^2}$"
      ]
    },
    {
      "cell_type": "markdown",
      "metadata": {
        "id": "GRxMITlxyWvD"
      },
      "source": [
        "input responde uma pergunta. \r\n",
        "deve se associar a uma variavel para poder salvar o numero"
      ]
    },
    {
      "cell_type": "code",
      "metadata": {
        "id": "1lnaM2POxa17",
        "colab": {
          "base_uri": "https://localhost:8080/",
          "height": 52
        },
        "outputId": "fd8b5b7a-a0db-40db-d1ba-b4be3f3a5b64"
      },
      "source": [
        "input('Qual é sua altura em metros? (utilize pontos ex:1.77 ')"
      ],
      "execution_count": null,
      "outputs": [
        {
          "output_type": "stream",
          "text": [
            "Qual é sua altura em metros? (utilize pontos ex:1.77 1.77\n"
          ],
          "name": "stdout"
        },
        {
          "output_type": "execute_result",
          "data": {
            "application/vnd.google.colaboratory.intrinsic+json": {
              "type": "string"
            },
            "text/plain": [
              "'1.77'"
            ]
          },
          "metadata": {
            "tags": []
          },
          "execution_count": 7
        }
      ]
    },
    {
      "cell_type": "code",
      "metadata": {
        "id": "Rfkw6VQ7y-qp",
        "colab": {
          "base_uri": "https://localhost:8080/"
        },
        "outputId": "32cfaf94-1db7-4562-c7cd-cc6a4f4aea59"
      },
      "source": [
        "altura = input('Qual é sua altura em metros? (utilize pontos ex:1.77) ')"
      ],
      "execution_count": null,
      "outputs": [
        {
          "output_type": "stream",
          "text": [
            "Qual é sua altura em metros? (utilize pontos ex:1.77) 10\n"
          ],
          "name": "stdout"
        }
      ]
    },
    {
      "cell_type": "code",
      "metadata": {
        "id": "1Fp1-zL31NOw"
      },
      "source": [
        "Peso = 77"
      ],
      "execution_count": null,
      "outputs": []
    },
    {
      "cell_type": "markdown",
      "metadata": {
        "id": "nbdhqpCB0V2b"
      },
      "source": [
        "dados numerico temos os ints e o floats\r\n",
        "em dados de texto temos strings\r\n",
        "escreve-se o tipo na frente dos parentesses para mudar o tipo do dados"
      ]
    },
    {
      "cell_type": "code",
      "metadata": {
        "colab": {
          "base_uri": "https://localhost:8080/"
        },
        "id": "VjFAjF5s1IZ3",
        "outputId": "507f303f-5310-48ff-ccf2-b8a4f411aff6"
      },
      "source": [
        "altura = input('Qual é sua altura em metros? (utilize pontos ex:1.77) ')\r\n",
        "Peso = input('Qual é sua peso em Kilos? (utilize pontos ex:85.5) ')"
      ],
      "execution_count": null,
      "outputs": [
        {
          "output_type": "stream",
          "text": [
            "Qual é sua altura em metros? (utilize pontos ex:1.77) 1.77\n",
            "Qual é sua peso em Kilos? (utilize pontos ex:85.5) 85.5\n"
          ],
          "name": "stdout"
        }
      ]
    },
    {
      "cell_type": "code",
      "metadata": {
        "colab": {
          "base_uri": "https://localhost:8080/"
        },
        "id": "om5P9gMI14lv",
        "outputId": "6244e3ac-a5e9-48cd-b524-250f1f9345cc"
      },
      "source": [
        "type(Peso)"
      ],
      "execution_count": null,
      "outputs": [
        {
          "output_type": "execute_result",
          "data": {
            "text/plain": [
              "str"
            ]
          },
          "metadata": {
            "tags": []
          },
          "execution_count": 19
        }
      ]
    },
    {
      "cell_type": "code",
      "metadata": {
        "id": "EVi-qinT2v-w"
      },
      "source": [
        "IMC = float(Peso)/float(altrua)**2"
      ],
      "execution_count": null,
      "outputs": []
    },
    {
      "cell_type": "code",
      "metadata": {
        "colab": {
          "base_uri": "https://localhost:8080/"
        },
        "id": "4oZn1sA73CA-",
        "outputId": "ed33e9ae-bb00-41dc-be36-84eb8f7bde26"
      },
      "source": [
        "IMC"
      ],
      "execution_count": null,
      "outputs": [
        {
          "output_type": "execute_result",
          "data": {
            "text/plain": [
              "27.291008330939384"
            ]
          },
          "metadata": {
            "tags": []
          },
          "execution_count": 23
        }
      ]
    },
    {
      "cell_type": "code",
      "metadata": {
        "colab": {
          "base_uri": "https://localhost:8080/"
        },
        "id": "gjuYLH2q3EKl",
        "outputId": "f0c92de3-de1e-47da-975a-a7da652029e4"
      },
      "source": [
        "#função usada para arredondar\r\n",
        "round(IMC,2)"
      ],
      "execution_count": null,
      "outputs": [
        {
          "output_type": "execute_result",
          "data": {
            "text/plain": [
              "27.29"
            ]
          },
          "metadata": {
            "tags": []
          },
          "execution_count": 25
        }
      ]
    },
    {
      "cell_type": "code",
      "metadata": {
        "id": "nF8H8DVj4IV7"
      },
      "source": [
        "def imc(peso,altura):\r\n",
        "  imc=peso/altura**2\r\n",
        "  imc_arredondado = round(imc,2)\r\n",
        "  return imc_arredondado"
      ],
      "execution_count": null,
      "outputs": []
    },
    {
      "cell_type": "code",
      "metadata": {
        "colab": {
          "base_uri": "https://localhost:8080/"
        },
        "id": "-eRtbGXl6l2g",
        "outputId": "b9f3f80b-5fbd-4601-d8d7-52d669643843"
      },
      "source": [
        "imc(85,1.77)"
      ],
      "execution_count": null,
      "outputs": [
        {
          "output_type": "execute_result",
          "data": {
            "text/plain": [
              "27.13"
            ]
          },
          "metadata": {
            "tags": []
          },
          "execution_count": 30
        }
      ]
    },
    {
      "cell_type": "code",
      "metadata": {
        "id": "IhE4zOT66ruC"
      },
      "source": [
        "def imc():\r\n",
        "  altura = input('Qual é sua altura em metros? (utilize pontos ex:1.77) ') #para retornar mensagem\r\n",
        "  peso = input('Qual é sua peso em Kilos? (utilize pontos ex:85.5) ')\r\n",
        "  imc = float(peso)/float(altrua)**2 #para mudar variavel\r\n",
        "  imc_arredondado = round(imc,2) #para arredondar\r\n",
        "  return f'Olá meu IMC é:{imc_arredondado}' #retorna o que vcê quiser"
      ],
      "execution_count": null,
      "outputs": []
    },
    {
      "cell_type": "code",
      "metadata": {
        "colab": {
          "base_uri": "https://localhost:8080/",
          "height": 69
        },
        "id": "tmdDElj37lJG",
        "outputId": "33cc038d-2a01-4e0c-88f8-37dfc66fe13f"
      },
      "source": [
        "imc()"
      ],
      "execution_count": null,
      "outputs": [
        {
          "output_type": "stream",
          "text": [
            "Qual é sua altura em metros? (utilize pontos ex:1.77) 1.77\n",
            "Qual é sua peso em Kilos? (utilize pontos ex:85.5) 85\n"
          ],
          "name": "stdout"
        },
        {
          "output_type": "execute_result",
          "data": {
            "application/vnd.google.colaboratory.intrinsic+json": {
              "type": "string"
            },
            "text/plain": [
              "'Olá meu IMC é:27.13'"
            ]
          },
          "metadata": {
            "tags": []
          },
          "execution_count": 37
        }
      ]
    },
    {
      "cell_type": "code",
      "metadata": {
        "id": "MDqZ9cH07qPD"
      },
      "source": [
        "#colocar mais um nome no no Imput para retornar na mensagem"
      ],
      "execution_count": null,
      "outputs": []
    },
    {
      "cell_type": "markdown",
      "metadata": {
        "id": "k4BjO60fB_H3"
      },
      "source": [
        "**Funções if, else, elif**"
      ]
    },
    {
      "cell_type": "code",
      "metadata": {
        "id": "S4CZl2gpBoQ4"
      },
      "source": [
        "def Igual_diferente(a,b):\r\n",
        "  if a == b:\r\n",
        "    print('a = b')\r\n",
        "  else:\r\n",
        "    print('a!= b')"
      ],
      "execution_count": null,
      "outputs": []
    },
    {
      "cell_type": "code",
      "metadata": {
        "colab": {
          "base_uri": "https://localhost:8080/"
        },
        "id": "ImLuYFEUDU6X",
        "outputId": "c96efe24-7067-40bb-f90e-f0c8c68223e2"
      },
      "source": [
        "Igual_diferente(10,10)"
      ],
      "execution_count": null,
      "outputs": [
        {
          "output_type": "stream",
          "text": [
            "a = b\n"
          ],
          "name": "stdout"
        }
      ]
    },
    {
      "cell_type": "markdown",
      "metadata": {
        "id": "obxk1LJ8DoF-"
      },
      "source": [
        "Mais de uma condição por parametro"
      ]
    },
    {
      "cell_type": "code",
      "metadata": {
        "colab": {
          "base_uri": "https://localhost:8080/"
        },
        "id": "bdU4jgd5Daj4",
        "outputId": "58430824-f0b0-4873-b31f-a0cd1e832d45"
      },
      "source": [
        "if 10<20 and (type(10)==str):\r\n",
        "  print('Verdade')\r\n",
        "else:\r\n",
        "  print(\"mentira\")"
      ],
      "execution_count": null,
      "outputs": [
        {
          "output_type": "stream",
          "text": [
            "mentira\n"
          ],
          "name": "stdout"
        }
      ]
    },
    {
      "cell_type": "code",
      "metadata": {
        "id": "ZDtSks6KEdVs"
      },
      "source": [
        "def imc():\r\n",
        "  nome = input('Qual seu nome? ')\r\n",
        "  altura = input('Qual é sua altura em metros? (utilize pontos ex:1.77) ')\r\n",
        "  peso = input('Qual é sua peso em Kilos? (utilize pontos ex:85.5) ')\r\n",
        "  imc = float(peso)/float(altura)**2\r\n",
        "  imc2 = round(imc,2)\r\n",
        "  if imc2>= 25:\r\n",
        "    print(f'{nome} você está acima do peso Ideal!')\r\n",
        "  elif imc< 18.5:\r\n",
        "    print(f'{nome} você está abaixo do peso ideal')\r\n",
        "  else:\r\n",
        "    print(f'{nome} você está  no seu peso ideal')"
      ],
      "execution_count": null,
      "outputs": []
    },
    {
      "cell_type": "code",
      "metadata": {
        "colab": {
          "base_uri": "https://localhost:8080/"
        },
        "id": "5_18mr4fGkql",
        "outputId": "f52b059c-2616-41f9-c844-311d1edba803"
      },
      "source": [
        "imc()"
      ],
      "execution_count": null,
      "outputs": [
        {
          "output_type": "stream",
          "text": [
            "Qual seu nome? thiago\n",
            "Qual é sua altura em metros? (utilize pontos ex:1.77) 1.77\n",
            "Qual é sua peso em Kilos? (utilize pontos ex:85.5) 85.7\n",
            "thiago você está acima do peso Ideal!\n"
          ],
          "name": "stdout"
        }
      ]
    },
    {
      "cell_type": "markdown",
      "metadata": {
        "id": "3KvlMyvBFoHK"
      },
      "source": [
        "**Litstas**"
      ]
    },
    {
      "cell_type": "code",
      "metadata": {
        "id": "tBVwnDO1G_B6"
      },
      "source": [
        "lista = [3,4,5,6,7,4,56,31,\"bola\",'bicicleta']"
      ],
      "execution_count": null,
      "outputs": []
    },
    {
      "cell_type": "code",
      "metadata": {
        "colab": {
          "base_uri": "https://localhost:8080/"
        },
        "id": "G556ftNpHau5",
        "outputId": "736d65d5-16d8-4cb6-b0f3-9acc30545323"
      },
      "source": [
        "type(lista)"
      ],
      "execution_count": null,
      "outputs": [
        {
          "output_type": "execute_result",
          "data": {
            "text/plain": [
              "list"
            ]
          },
          "metadata": {
            "tags": []
          },
          "execution_count": 15
        }
      ]
    },
    {
      "cell_type": "markdown",
      "metadata": {
        "id": "YyuyGlWIHfQB"
      },
      "source": [
        "**Chamando lista**"
      ]
    },
    {
      "cell_type": "code",
      "metadata": {
        "colab": {
          "base_uri": "https://localhost:8080/"
        },
        "id": "Cwg1iWSLHdvO",
        "outputId": "e1e02685-9c6a-4d72-abb4-8436781ec638"
      },
      "source": [
        "lista[2]"
      ],
      "execution_count": null,
      "outputs": [
        {
          "output_type": "execute_result",
          "data": {
            "text/plain": [
              "5"
            ]
          },
          "metadata": {
            "tags": []
          },
          "execution_count": 17
        }
      ]
    },
    {
      "cell_type": "code",
      "metadata": {
        "colab": {
          "base_uri": "https://localhost:8080/",
          "height": 35
        },
        "id": "0fBm9wqHIA5P",
        "outputId": "d09dcee1-6da3-4bcc-9e2e-be3b1ae420b4"
      },
      "source": [
        "lista[-2]"
      ],
      "execution_count": null,
      "outputs": [
        {
          "output_type": "execute_result",
          "data": {
            "application/vnd.google.colaboratory.intrinsic+json": {
              "type": "string"
            },
            "text/plain": [
              "'bola'"
            ]
          },
          "metadata": {
            "tags": []
          },
          "execution_count": 18
        }
      ]
    },
    {
      "cell_type": "code",
      "metadata": {
        "id": "YYJyRp8vIT7h"
      },
      "source": [
        "lista[2]='cinco'"
      ],
      "execution_count": null,
      "outputs": []
    },
    {
      "cell_type": "code",
      "metadata": {
        "colab": {
          "base_uri": "https://localhost:8080/"
        },
        "id": "xXY7JcHPIlnh",
        "outputId": "dfe8a2d9-1415-4fe8-ab85-06ea0e269ff8"
      },
      "source": [
        "lista"
      ],
      "execution_count": null,
      "outputs": [
        {
          "output_type": "execute_result",
          "data": {
            "text/plain": [
              "[3, 4, 'cinco', 6, 7, 4, 56, 31, 'bola', 'bicicleta']"
            ]
          },
          "metadata": {
            "tags": []
          },
          "execution_count": 20
        }
      ]
    },
    {
      "cell_type": "markdown",
      "metadata": {
        "id": "Dp07rnAJIteD"
      },
      "source": [
        "append"
      ]
    },
    {
      "cell_type": "code",
      "metadata": {
        "id": "J-TJmvuaIoD1"
      },
      "source": [
        "lista.append('carro')"
      ],
      "execution_count": null,
      "outputs": []
    },
    {
      "cell_type": "code",
      "metadata": {
        "colab": {
          "base_uri": "https://localhost:8080/"
        },
        "id": "YiXCrNw4I2VU",
        "outputId": "81c82bb6-73f6-4e4a-8d70-e452956c1170"
      },
      "source": [
        "lista"
      ],
      "execution_count": null,
      "outputs": [
        {
          "output_type": "execute_result",
          "data": {
            "text/plain": [
              "[3, 4, 'cinco', 6, 7, 4, 56, 31, 'bola', 'bicicleta', 'carro']"
            ]
          },
          "metadata": {
            "tags": []
          },
          "execution_count": 22
        }
      ]
    },
    {
      "cell_type": "markdown",
      "metadata": {
        "id": "BRgGdpJEI5GU"
      },
      "source": [
        "**Uma lista em uma lista**"
      ]
    },
    {
      "cell_type": "markdown",
      "metadata": {
        "id": "anOh1VgCTTwl"
      },
      "source": [
        "append()"
      ]
    },
    {
      "cell_type": "code",
      "metadata": {
        "id": "1pQEWq1TI3SA"
      },
      "source": [
        "lista.append(['casa', 78])"
      ],
      "execution_count": null,
      "outputs": []
    },
    {
      "cell_type": "code",
      "metadata": {
        "colab": {
          "base_uri": "https://localhost:8080/"
        },
        "id": "tjCIINHJI69x",
        "outputId": "ca57a896-38d9-4a8d-9b2c-382d658113ca"
      },
      "source": [
        "lista"
      ],
      "execution_count": null,
      "outputs": [
        {
          "output_type": "execute_result",
          "data": {
            "text/plain": [
              "[3, 4, 'cinco', 6, 7, 4, 56, 31, 'bola', 'bicicleta', 'carro', ['casa', 78]]"
            ]
          },
          "metadata": {
            "tags": []
          },
          "execution_count": 24
        }
      ]
    },
    {
      "cell_type": "code",
      "metadata": {
        "id": "C7Ksd9_8JMNx"
      },
      "source": [
        ""
      ],
      "execution_count": null,
      "outputs": []
    },
    {
      "cell_type": "markdown",
      "metadata": {
        "id": "_C6yQ4XsJeCc"
      },
      "source": [
        "encontrando item dentro da lista"
      ]
    },
    {
      "cell_type": "code",
      "metadata": {
        "colab": {
          "base_uri": "https://localhost:8080/",
          "height": 35
        },
        "id": "SefpBnDLJiCI",
        "outputId": "da6e50a6-e5f0-4fba-c68c-5b1c45583ac2"
      },
      "source": [
        "lista[-1][0]"
      ],
      "execution_count": null,
      "outputs": [
        {
          "output_type": "execute_result",
          "data": {
            "application/vnd.google.colaboratory.intrinsic+json": {
              "type": "string"
            },
            "text/plain": [
              "'casa'"
            ]
          },
          "metadata": {
            "tags": []
          },
          "execution_count": 25
        }
      ]
    },
    {
      "cell_type": "markdown",
      "metadata": {
        "id": "R_VgsxgYJq7i"
      },
      "source": [
        "Exercicio 2\r\n",
        "Faça uma lista"
      ]
    },
    {
      "cell_type": "code",
      "metadata": {
        "id": "gsV1ADu1JpLx"
      },
      "source": [
        "lista2=[2,3,4,5,6,7,8,9]"
      ],
      "execution_count": null,
      "outputs": []
    },
    {
      "cell_type": "code",
      "metadata": {
        "id": "bq2xTyjxJz8H"
      },
      "source": [
        "lista2[1]='casa'"
      ],
      "execution_count": null,
      "outputs": []
    },
    {
      "cell_type": "code",
      "metadata": {
        "colab": {
          "base_uri": "https://localhost:8080/"
        },
        "id": "WPz3EJoaKEYJ",
        "outputId": "37865e47-5ce7-4067-f24c-ce11fffd52bc"
      },
      "source": [
        "lista2"
      ],
      "execution_count": null,
      "outputs": [
        {
          "output_type": "execute_result",
          "data": {
            "text/plain": [
              "[2, 'casa', 4, 5, 6, 7, 8, 9]"
            ]
          },
          "metadata": {
            "tags": []
          },
          "execution_count": 6
        }
      ]
    },
    {
      "cell_type": "code",
      "metadata": {
        "id": "TkWcGFrhTeZ2"
      },
      "source": [
        "lista2.append('carro')"
      ],
      "execution_count": null,
      "outputs": []
    },
    {
      "cell_type": "code",
      "metadata": {
        "colab": {
          "base_uri": "https://localhost:8080/"
        },
        "id": "Q3z6mAkQUpYS",
        "outputId": "8443ebca-71a4-41f2-a1a2-ce64f9886ab7"
      },
      "source": [
        "lista2"
      ],
      "execution_count": null,
      "outputs": [
        {
          "output_type": "execute_result",
          "data": {
            "text/plain": [
              "[2, 'casa', 4, 5, 6, 7, 8, 9, 'carro', 'carro']"
            ]
          },
          "metadata": {
            "tags": []
          },
          "execution_count": 10
        }
      ]
    },
    {
      "cell_type": "markdown",
      "metadata": {
        "id": "LfyocYJgKPSh"
      },
      "source": [
        "**Iterando**\r\n",
        "Loop for"
      ]
    },
    {
      "cell_type": "code",
      "metadata": {
        "colab": {
          "base_uri": "https://localhost:8080/"
        },
        "id": "aT_n-U0dV6qJ",
        "outputId": "00b94681-0a9f-4577-fcde-2ca9347da219"
      },
      "source": [
        "for i in lista2:\r\n",
        "  print(i,i)"
      ],
      "execution_count": null,
      "outputs": [
        {
          "output_type": "stream",
          "text": [
            "2 2\n",
            "casa casa\n",
            "4 4\n",
            "5 5\n",
            "6 6\n",
            "7 7\n",
            "8 8\n",
            "9 9\n",
            "carro carro\n",
            "carro carro\n"
          ],
          "name": "stdout"
        }
      ]
    },
    {
      "cell_type": "code",
      "metadata": {
        "colab": {
          "base_uri": "https://localhost:8080/"
        },
        "id": "PrBstZpsKLKe",
        "outputId": "b27737ae-b4c1-46d3-a149-f056bfd87a85"
      },
      "source": [
        "for i in lista2:\r\n",
        "  print(f'{i} Está na lista')"
      ],
      "execution_count": null,
      "outputs": [
        {
          "output_type": "stream",
          "text": [
            "2 Está na lista\n",
            "casa Está na lista\n",
            "4 Está na lista\n",
            "5 Está na lista\n",
            "6 Está na lista\n",
            "7 Está na lista\n",
            "8 Está na lista\n",
            "9 Está na lista\n",
            "carro Está na lista\n",
            "carro Está na lista\n"
          ],
          "name": "stdout"
        }
      ]
    },
    {
      "cell_type": "markdown",
      "metadata": {
        "id": "hS0YYyM8Wgp4"
      },
      "source": [
        "Exemplo pratico, coletando dados da academia!"
      ]
    },
    {
      "cell_type": "code",
      "metadata": {
        "id": "-VksHldoWk5W"
      },
      "source": [
        ""
      ],
      "execution_count": null,
      "outputs": []
    },
    {
      "cell_type": "code",
      "metadata": {
        "id": "Qjcu9R7LOMKc"
      },
      "source": [
        "academia = [['Ulrich', 'M', 80,1.92],['Thiago','M',85.7,1.77],\r\n",
        "            ['Claudia','F', 62, 196],['Raquel','F',65,1.75],\r\n",
        "            ['Charlote','F',52,1.56]]"
      ],
      "execution_count": null,
      "outputs": []
    },
    {
      "cell_type": "code",
      "metadata": {
        "colab": {
          "base_uri": "https://localhost:8080/"
        },
        "id": "48fof8gZ2-eT",
        "outputId": "6f5b0d9e-e624-4d23-d94d-6a8fc6515802"
      },
      "source": [
        "academia[2][2]"
      ],
      "execution_count": null,
      "outputs": [
        {
          "output_type": "execute_result",
          "data": {
            "text/plain": [
              "62"
            ]
          },
          "metadata": {
            "tags": []
          },
          "execution_count": 13
        }
      ]
    },
    {
      "cell_type": "code",
      "metadata": {
        "colab": {
          "base_uri": "https://localhost:8080/"
        },
        "id": "wPwXdK3H3Gwu",
        "outputId": "2125f363-95ea-4431-db3c-8cb8a5521ccf"
      },
      "source": [
        "for k in academia:\r\n",
        "  print(k[0],\":\",k[-1])\r\n",
        "  print(\"=\"*80)"
      ],
      "execution_count": null,
      "outputs": [
        {
          "output_type": "stream",
          "text": [
            "Ulrich : 1.92\n",
            "================================================================================\n",
            "Thiago : 1.77\n",
            "================================================================================\n",
            "Claudia : 196\n",
            "================================================================================\n",
            "Raquel : 1.75\n",
            "================================================================================\n",
            "Charlote : 1.56\n",
            "================================================================================\n"
          ],
          "name": "stdout"
        }
      ]
    },
    {
      "cell_type": "markdown",
      "metadata": {
        "id": "OOwjISAC39uY"
      },
      "source": [
        "Operações dentro das listas"
      ]
    },
    {
      "cell_type": "code",
      "metadata": {
        "id": "MPRjBhju37fi"
      },
      "source": [
        "for l in academia:\r\n",
        "  imc = round(l[2]/l[3]**2,2)\r\n",
        "  l.append(imc)"
      ],
      "execution_count": null,
      "outputs": []
    },
    {
      "cell_type": "code",
      "metadata": {
        "colab": {
          "base_uri": "https://localhost:8080/"
        },
        "id": "heWwvjqn5bs8",
        "outputId": "75acd456-de3d-4a59-be4b-7e6589c82cb9"
      },
      "source": [
        "academia"
      ],
      "execution_count": null,
      "outputs": [
        {
          "output_type": "execute_result",
          "data": {
            "text/plain": [
              "[['Ulrich', 'M', 80, 1.92, 21.7],\n",
              " ['Thiago', 'M', 85.7, 1.77, 27.35],\n",
              " ['Claudia', 'F', 62, 196, 0.0],\n",
              " ['Raquel', 'F', 65, 1.75, 21.22],\n",
              " ['Charlote', 'F', 52, 1.56, 21.37]]"
            ]
          },
          "metadata": {
            "tags": []
          },
          "execution_count": 17
        }
      ]
    },
    {
      "cell_type": "markdown",
      "metadata": {
        "id": "Zd6UTLnRQoyF"
      },
      "source": [
        "Dicionario"
      ]
    },
    {
      "cell_type": "code",
      "metadata": {
        "id": "QOVYbad4Quta"
      },
      "source": [
        "dicionario = {\"peso\": 80,\"altura\":1.92}"
      ],
      "execution_count": null,
      "outputs": []
    },
    {
      "cell_type": "code",
      "metadata": {
        "colab": {
          "base_uri": "https://localhost:8080/"
        },
        "id": "-2bMEI8YTghJ",
        "outputId": "56609334-84af-48ce-a501-0878cfa37dbb"
      },
      "source": [
        "dicionario[\"peso\"]"
      ],
      "execution_count": null,
      "outputs": [
        {
          "output_type": "execute_result",
          "data": {
            "text/plain": [
              "80"
            ]
          },
          "metadata": {
            "tags": []
          },
          "execution_count": 19
        }
      ]
    },
    {
      "cell_type": "markdown",
      "metadata": {
        "id": "F2j7kZVzTxIU"
      },
      "source": [
        "Dicionario dentro de um dicionario"
      ]
    },
    {
      "cell_type": "code",
      "metadata": {
        "id": "gO9o_fxMT0Fm"
      },
      "source": [
        "dicionario = {\"vinicius\":{\"peso\":80,\"altura\":1.90},\"Ulrich\":{\"altura\":2.00,\"peso\":90}}"
      ],
      "execution_count": null,
      "outputs": []
    },
    {
      "cell_type": "code",
      "metadata": {
        "colab": {
          "base_uri": "https://localhost:8080/"
        },
        "id": "HtEBsmzTUeaL",
        "outputId": "c1f8839a-6b80-4129-f5c7-e563d67b35db"
      },
      "source": [
        "dicionario[\"Ulrich\"]"
      ],
      "execution_count": null,
      "outputs": [
        {
          "output_type": "execute_result",
          "data": {
            "text/plain": [
              "{'altura': 2.0, 'peso': 90}"
            ]
          },
          "metadata": {
            "tags": []
          },
          "execution_count": 21
        }
      ]
    },
    {
      "cell_type": "code",
      "metadata": {
        "colab": {
          "base_uri": "https://localhost:8080/"
        },
        "id": "d8fFX4_DVjfD",
        "outputId": "81d8942b-b871-4f90-a8c2-d30e121acd30"
      },
      "source": [
        "dicionario[\"Ulrich\"][\"altura\"]"
      ],
      "execution_count": null,
      "outputs": [
        {
          "output_type": "execute_result",
          "data": {
            "text/plain": [
              "2.0"
            ]
          },
          "metadata": {
            "tags": []
          },
          "execution_count": 22
        }
      ]
    },
    {
      "cell_type": "markdown",
      "metadata": {
        "id": "fZw_5yO1Qx2w"
      },
      "source": [
        "Adicionando itens a um dicionario"
      ]
    },
    {
      "cell_type": "code",
      "metadata": {
        "id": "kkg8w5ozTu4e"
      },
      "source": [
        "dicionario[\"vinicius\"][\"email\"] = 'vinicius@vinicius.com'"
      ],
      "execution_count": null,
      "outputs": []
    },
    {
      "cell_type": "code",
      "metadata": {
        "colab": {
          "base_uri": "https://localhost:8080/"
        },
        "id": "es4WqqA2V-NR",
        "outputId": "67777162-c560-491f-b4ff-8738bdb653fb"
      },
      "source": [
        "dicionario"
      ],
      "execution_count": null,
      "outputs": [
        {
          "output_type": "execute_result",
          "data": {
            "text/plain": [
              "{'Ulrich': {'altura': 2.0, 'peso': 90},\n",
              " 'vinicius': {'altura': 1.9, 'email': 'vinicius@vinicius.com', 'peso': 80}}"
            ]
          },
          "metadata": {
            "tags": []
          },
          "execution_count": 24
        }
      ]
    },
    {
      "cell_type": "markdown",
      "metadata": {
        "id": "FFCX1LB_WVB4"
      },
      "source": [
        "Adicione mais um mebro"
      ]
    },
    {
      "cell_type": "code",
      "metadata": {
        "id": "ibsCJFN7WIUW"
      },
      "source": [
        "dicionario['Martha']={'altura':1.67,'peso':54}"
      ],
      "execution_count": null,
      "outputs": []
    },
    {
      "cell_type": "code",
      "metadata": {
        "colab": {
          "base_uri": "https://localhost:8080/"
        },
        "id": "75OKlBejWkRJ",
        "outputId": "0b71627c-51ef-447e-b0a4-c31fef83f5e8"
      },
      "source": [
        " dicionario"
      ],
      "execution_count": null,
      "outputs": [
        {
          "output_type": "execute_result",
          "data": {
            "text/plain": [
              "{'Martha': {'altura': 1.67, 'peso': 54},\n",
              " 'Ulrich': {'altura': 2.0, 'peso': 90},\n",
              " 'vinicius': {'altura': 1.9, 'email': 'vinicius@vinicius.com', 'peso': 80}}"
            ]
          },
          "metadata": {
            "tags": []
          },
          "execution_count": 26
        }
      ]
    },
    {
      "cell_type": "markdown",
      "metadata": {
        "id": "mjAANFBXWypf"
      },
      "source": [
        "**O grande loop**\r\n",
        "da lista ao dicionario"
      ]
    },
    {
      "cell_type": "code",
      "metadata": {
        "colab": {
          "base_uri": "https://localhost:8080/"
        },
        "id": "oB4-PH6eWu3M",
        "outputId": "1f39e8d9-f52b-47e6-e6e4-41419543f47d"
      },
      "source": [
        "academia"
      ],
      "execution_count": null,
      "outputs": [
        {
          "output_type": "execute_result",
          "data": {
            "text/plain": [
              "[['Ulrich', 'M', 80, 1.92, 21.7],\n",
              " ['Thiago', 'M', 85.7, 1.77, 27.35],\n",
              " ['Claudia', 'F', 62, 196, 0.0],\n",
              " ['Raquel', 'F', 65, 1.75, 21.22],\n",
              " ['Charlote', 'F', 52, 1.56, 21.37]]"
            ]
          },
          "metadata": {
            "tags": []
          },
          "execution_count": 27
        }
      ]
    },
    {
      "cell_type": "code",
      "metadata": {
        "id": "nhAYMLBjW3XY"
      },
      "source": [
        "academia_dic={}\r\n",
        "for aluno in academia:\r\n",
        "  academia_dic[aluno[0]]={}"
      ],
      "execution_count": null,
      "outputs": []
    },
    {
      "cell_type": "code",
      "metadata": {
        "colab": {
          "base_uri": "https://localhost:8080/"
        },
        "id": "4TNzzUYXXKwr",
        "outputId": "7120dc6d-3519-41a8-a54b-e338f6629b65"
      },
      "source": [
        "academia_dic"
      ],
      "execution_count": null,
      "outputs": [
        {
          "output_type": "execute_result",
          "data": {
            "text/plain": [
              "{'Charlote': {}, 'Claudia': {}, 'Raquel': {}, 'Thiago': {}, 'Ulrich': {}}"
            ]
          },
          "metadata": {
            "tags": []
          },
          "execution_count": 29
        }
      ]
    },
    {
      "cell_type": "code",
      "metadata": {
        "id": "2Z5LPAaxXqq1"
      },
      "source": [
        "academia_dic={}\r\n",
        "for aluno in academia:\r\n",
        "  academia_dic[aluno[0]]={}\r\n",
        "  academia_dic[aluno[0]]['sexo']=aluno[1]"
      ],
      "execution_count": null,
      "outputs": []
    },
    {
      "cell_type": "code",
      "metadata": {
        "colab": {
          "base_uri": "https://localhost:8080/"
        },
        "id": "YXGh-ItQX4YO",
        "outputId": "1871fd4a-6451-4d5b-a064-64fa1836f392"
      },
      "source": [
        "academia_dic"
      ],
      "execution_count": null,
      "outputs": [
        {
          "output_type": "execute_result",
          "data": {
            "text/plain": [
              "{'Charlote': {'sexo': 'F'},\n",
              " 'Claudia': {'sexo': 'F'},\n",
              " 'Raquel': {'sexo': 'F'},\n",
              " 'Thiago': {'sexo': 'M'},\n",
              " 'Ulrich': {'sexo': 'M'}}"
            ]
          },
          "metadata": {
            "tags": []
          },
          "execution_count": 31
        }
      ]
    },
    {
      "cell_type": "code",
      "metadata": {
        "id": "nYUXlk9tYOgK"
      },
      "source": [
        "academia_dic={}\r\n",
        "for aluno in academia:\r\n",
        "  academia_dic[aluno[0]]={}\r\n",
        "  academia_dic[aluno[0]]['sexo']=aluno[1]\r\n",
        "  academia_dic[aluno[0]]['peso']=aluno[2]\r\n",
        "  academia_dic[aluno[0]]['altura']=aluno[3]\r\n",
        "  academia_dic[aluno[0]]['IMC']=aluno[4]"
      ],
      "execution_count": null,
      "outputs": []
    },
    {
      "cell_type": "code",
      "metadata": {
        "colab": {
          "base_uri": "https://localhost:8080/"
        },
        "id": "bfF8arofYTcK",
        "outputId": "37d6e73b-c6c5-40f1-a946-8522938d96d4"
      },
      "source": [
        "academia_dic"
      ],
      "execution_count": null,
      "outputs": [
        {
          "output_type": "execute_result",
          "data": {
            "text/plain": [
              "{'Charlote': {'IMC': 21.37, 'altura': 1.56, 'peso': 52, 'sexo': 'F'},\n",
              " 'Claudia': {'IMC': 0.0, 'altura': 196, 'peso': 62, 'sexo': 'F'},\n",
              " 'Raquel': {'IMC': 21.22, 'altura': 1.75, 'peso': 65, 'sexo': 'F'},\n",
              " 'Thiago': {'IMC': 27.35, 'altura': 1.77, 'peso': 85.7, 'sexo': 'M'},\n",
              " 'Ulrich': {'IMC': 21.7, 'altura': 1.92, 'peso': 80, 'sexo': 'M'}}"
            ]
          },
          "metadata": {
            "tags": []
          },
          "execution_count": 33
        }
      ]
    },
    {
      "cell_type": "code",
      "metadata": {
        "colab": {
          "base_uri": "https://localhost:8080/"
        },
        "id": "PreXKUW-YgL-",
        "outputId": "313d4091-e3f4-43c8-ab3b-8f2d7093e945"
      },
      "source": [
        "academia_dic['Claudia']['peso']"
      ],
      "execution_count": null,
      "outputs": [
        {
          "output_type": "execute_result",
          "data": {
            "text/plain": [
              "62"
            ]
          },
          "metadata": {
            "tags": []
          },
          "execution_count": 34
        }
      ]
    },
    {
      "cell_type": "markdown",
      "metadata": {
        "id": "wKgSLfKoYz7L"
      },
      "source": [
        "loop + condicionais"
      ]
    },
    {
      "cell_type": "code",
      "metadata": {
        "id": "pHbVnQapYwrg"
      },
      "source": [
        ""
      ],
      "execution_count": null,
      "outputs": []
    },
    {
      "cell_type": "markdown",
      "metadata": {
        "id": "LPqcPkngY3Hx"
      },
      "source": [
        "vendo chaves do dicionario"
      ]
    },
    {
      "cell_type": "code",
      "metadata": {
        "colab": {
          "base_uri": "https://localhost:8080/"
        },
        "id": "TUhdZYu1Y5Fy",
        "outputId": "237dbbed-6ee4-4e3e-d2c3-1de4692bb898"
      },
      "source": [
        "academia_dic.keys()"
      ],
      "execution_count": null,
      "outputs": [
        {
          "output_type": "execute_result",
          "data": {
            "text/plain": [
              "dict_keys(['Ulrich', 'Thiago', 'Claudia', 'Raquel', 'Charlote'])"
            ]
          },
          "metadata": {
            "tags": []
          },
          "execution_count": 35
        }
      ]
    },
    {
      "cell_type": "markdown",
      "metadata": {
        "id": "XZS16HwCY60Q"
      },
      "source": [
        "Criando mensagem padrão"
      ]
    },
    {
      "cell_type": "code",
      "metadata": {
        "colab": {
          "base_uri": "https://localhost:8080/"
        },
        "id": "5jBUvRvaY8jx",
        "outputId": "132e8cd6-e854-4184-b05c-b171229b2eb5"
      },
      "source": [
        "for i in academia_dic.keys():\r\n",
        "  if academia_dic[i]['sexo']=='F':\r\n",
        "    print(f'Olá {i} gostariamos de informa-la que seu IMC é {academia_dic[i][\"IMC\"]}.')\r\n",
        "  else:\r\n",
        "    print(f'Olá {i} gostariamos de informa-lo que seu IMC é {academia_dic[i][\"IMC\"]}.')\r\n"
      ],
      "execution_count": null,
      "outputs": [
        {
          "output_type": "stream",
          "text": [
            "Olá Ulrich gostariamos de informa-lo que seu IMC é 21.7.\n",
            "Olá Thiago gostariamos de informa-lo que seu IMC é 27.35.\n",
            "Olá Claudia gostariamos de informa-la que seu IMC é 0.0.\n",
            "Olá Raquel gostariamos de informa-la que seu IMC é 21.22.\n",
            "Olá Charlote gostariamos de informa-la que seu IMC é 21.37.\n"
          ],
          "name": "stdout"
        }
      ]
    },
    {
      "cell_type": "code",
      "metadata": {
        "colab": {
          "base_uri": "https://localhost:8080/"
        },
        "id": "kx3zv9n9oQC_",
        "outputId": "073c90d3-f58d-40d0-e211-90d22a090b3e"
      },
      "source": [
        "for i in academia_dic.keys():\r\n",
        "    if academia_dic[i]['IMC']>25 :\r\n",
        "        if academia_dic[i]['sexo']=='M' :\r\n",
        "            print(f'Olá {i} gostariamos de informa-lo que você está acima do peso')\r\n",
        "        else:\r\n",
        "            print(f'Olá {i} gostariamos de informa-la que você está acima do peso')\r\n",
        "    elif academia_dic[i]['IMC']<18 :\r\n",
        "        if academia_dic[i]['sexo']=='M' :\r\n",
        "            print(f'Olá {i} gostariamos de informa-lo que você está abaixo do peso')\r\n",
        "        else:\r\n",
        "            print(f'Olá {i} gostariamos de informa-la que você está abaixo do peso')\r\n",
        "    else:\r\n",
        "        if academia_dic[i]['sexo']=='M' :\r\n",
        "            print(f'Olá {i} gostariamos de informa-lo que você está no seu peso ideal')\r\n",
        "        else:\r\n",
        "            print(f'Olá {i} gostariamos de informa-la que você está no seu peso ideal')"
      ],
      "execution_count": null,
      "outputs": [
        {
          "output_type": "stream",
          "text": [
            "Olá Ulrich gostariamos de informa-lo que você está no seu peso ideal\n",
            "Olá Thiago gostariamos de informa-lo que você está acima do peso\n",
            "Olá Claudia gostariamos de informa-la que você está abaixo do peso\n",
            "Olá Raquel gostariamos de informa-la que você está no seu peso ideal\n",
            "Olá Charlote gostariamos de informa-la que você está no seu peso ideal\n"
          ],
          "name": "stdout"
        }
      ]
    },
    {
      "cell_type": "code",
      "metadata": {
        "id": "V-znHTRfoswx"
      },
      "source": [
        ""
      ],
      "execution_count": null,
      "outputs": []
    }
  ]
}