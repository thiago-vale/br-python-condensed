{
  "nbformat": 4,
  "nbformat_minor": 0,
  "metadata": {
    "colab": {
      "name": "IMC.ipynb",
      "provenance": [],
      "authorship_tag": "ABX9TyO4NvOU2zIVuuvmYU3bsCFV",
      "include_colab_link": true
    },
    "kernelspec": {
      "name": "python3",
      "display_name": "Python 3"
    }
  },
  "cells": [
    {
      "cell_type": "markdown",
      "metadata": {
        "id": "view-in-github",
        "colab_type": "text"
      },
      "source": [
        "<a href=\"https://colab.research.google.com/github/thiago-vale/br-python-condensed/blob/main/IMC.ipynb\" target=\"_parent\"><img src=\"https://colab.research.google.com/assets/colab-badge.svg\" alt=\"Open In Colab\"/></a>"
      ]
    },
    {
      "cell_type": "code",
      "metadata": {
        "id": "K5Ioxrnccm7e"
      },
      "source": [
        "def imc():\r\n",
        "  nome = input('Qual seu nome? ')\r\n",
        "  altura = input('Qual é sua altura em metros? (utilize pontos ex:1.77) ')\r\n",
        "  peso = input('Qual é sua peso em Kilos? (utilize pontos ex:85.5) ')\r\n",
        "  imc = float(peso)/float(altura)**2\r\n",
        "  imc2 = round(imc,2)\r\n",
        "  return f'Olá {nome} IMC é:{imc2}'"
      ],
      "execution_count": null,
      "outputs": []
    },
    {
      "cell_type": "code",
      "metadata": {
        "colab": {
          "base_uri": "https://localhost:8080/",
          "height": 86
        },
        "id": "0lwFZloVdetJ",
        "outputId": "580f0c43-a0c3-4b00-a1c2-c8627e435bd1"
      },
      "source": [
        "imc()"
      ],
      "execution_count": null,
      "outputs": [
        {
          "output_type": "stream",
          "text": [
            "Qual seu nome? Thiago\n",
            "Qual é sua altura em metros? (utilize pontos ex:1.77) 1.77\n",
            "Qual é sua peso em Kilos? (utilize pontos ex:85.5) 85.7\n"
          ],
          "name": "stdout"
        },
        {
          "output_type": "execute_result",
          "data": {
            "application/vnd.google.colaboratory.intrinsic+json": {
              "type": "string"
            },
            "text/plain": [
              "'Olá Thiago IMC é:27.35'"
            ]
          },
          "metadata": {
            "tags": []
          },
          "execution_count": 5
        }
      ]
    }
  ]
}