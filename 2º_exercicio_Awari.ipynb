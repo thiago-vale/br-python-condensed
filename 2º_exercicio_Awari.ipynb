{
  "nbformat": 4,
  "nbformat_minor": 0,
  "metadata": {
    "colab": {
      "name": "2º exercicio Awari.ipynb",
      "provenance": [],
      "authorship_tag": "ABX9TyMYE1uNM60xTgdADjOuxhui",
      "include_colab_link": true
    },
    "kernelspec": {
      "name": "python3",
      "display_name": "Python 3"
    }
  },
  "cells": [
    {
      "cell_type": "markdown",
      "metadata": {
        "id": "view-in-github",
        "colab_type": "text"
      },
      "source": [
        "<a href=\"https://colab.research.google.com/github/thiago-vale/br-python-condensed/blob/main/2%C2%BA_exercicio_Awari.ipynb\" target=\"_parent\"><img src=\"https://colab.research.google.com/assets/colab-badge.svg\" alt=\"Open In Colab\"/></a>"
      ]
    },
    {
      "cell_type": "code",
      "metadata": {
        "id": "Z07HtGFErqI6"
      },
      "source": [
        "dic={'Charlote': {'IMC': 21.37, 'altura': 1.56, 'peso': 52, 'sexo': 'F'},\r\n",
        " 'Claudia': {'IMC': 0.0, 'altura': 196, 'peso': 62, 'sexo': 'F'},\r\n",
        " 'Raquel': {'IMC': 21.22, 'altura': 1.75, 'peso': 65, 'sexo': 'F'},\r\n",
        " 'Thiago': {'IMC': 27.35, 'altura': 1.77, 'peso': 85.7, 'sexo': 'M'},\r\n",
        " 'Ulrich': {'IMC': 21.7, 'altura': 1.92, 'peso': 80, 'sexo': 'M'}}"
      ],
      "execution_count": null,
      "outputs": []
    },
    {
      "cell_type": "code",
      "metadata": {
        "id": "Gu5UolC-rvVP",
        "colab": {
          "base_uri": "https://localhost:8080/"
        },
        "outputId": "19708230-8a0b-4b1f-ceca-075c62376661"
      },
      "source": [
        "for i in academia_dic.keys():\r\n",
        "    if academia_dic[i]['IMC']>25 :\r\n",
        "        if academia_dic[i]['sexo']=='M' :\r\n",
        "            print(f'Olá {i} gostariamos de informa-lo que você está acima do peso')\r\n",
        "        else:\r\n",
        "            print(f'Olá {i} gostariamos de informa-la que você está acima do peso')\r\n",
        "    elif academia_dic[i]['IMC']<18 :\r\n",
        "        if academia_dic[i]['sexo']=='M' :\r\n",
        "            print(f'Olá {i} gostariamos de informa-lo que você está abaixo do peso')\r\n",
        "        else:\r\n",
        "            print(f'Olá {i} gostariamos de informa-la que você está abaixo do peso')\r\n",
        "    else:\r\n",
        "        if academia_dic[i]['sexo']=='M' :\r\n",
        "            print(f'Olá {i} gostariamos de informa-lo que você está no seu peso ideal')\r\n",
        "        else:\r\n",
        "            print(f'Olá {i} gostariamos de informa-la que você está no seu peso ideal')"
      ],
      "execution_count": null,
      "outputs": [
        {
          "output_type": "stream",
          "text": [
            "Olá Charlote gostariamos de informa-la que você está no seu peso ideal\n",
            "Olá Claudia gostariamos de informa-la que você está abaixo do peso\n",
            "Olá Raquel gostariamos de informa-la que você está no seu peso ideal\n",
            "Olá Thiago gostariamos de informa-lo que você está acima do peso\n",
            "Olá Ulrich gostariamos de informa-lo que você está no seu peso ideal\n"
          ],
          "name": "stdout"
        }
      ]
    },
    {
      "cell_type": "code",
      "metadata": {
        "id": "3psB9kDkrygr"
      },
      "source": [
        ""
      ],
      "execution_count": null,
      "outputs": []
    }
  ]
}